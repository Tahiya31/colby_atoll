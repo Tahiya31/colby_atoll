{
 "cells": [
  {
   "cell_type": "markdown",
   "id": "ec146ba9",
   "metadata": {},
   "source": [
    "# Install and Import Necessary Libaries"
   ]
  },
  {
   "cell_type": "code",
   "execution_count": 2,
   "id": "1236d8ae-5594-4159-a1a6-e5976afc081a",
   "metadata": {
    "execution": {
     "iopub.execute_input": "2023-06-08T00:14:43.997688Z",
     "iopub.status.busy": "2023-06-08T00:14:43.996943Z",
     "iopub.status.idle": "2023-06-08T00:14:46.740221Z",
     "shell.execute_reply": "2023-06-08T00:14:46.739431Z",
     "shell.execute_reply.started": "2023-06-08T00:14:43.997639Z"
    },
    "scrolled": true
   },
   "outputs": [
    {
     "name": "stdout",
     "output_type": "stream",
     "text": [
      "Collecting keras-unet-collection\n",
      "  Downloading keras_unet_collection-0.1.13-py3-none-any.whl (67 kB)\n",
      "\u001b[2K     \u001b[90m━━━━━━━━━━━━━━━━━━━━━━━━━━━━━━━━━━━━━━━━\u001b[0m \u001b[32m67.9/67.9 kB\u001b[0m \u001b[31m14.9 MB/s\u001b[0m eta \u001b[36m0:00:00\u001b[0m\n",
      "\u001b[?25hInstalling collected packages: keras-unet-collection\n",
      "Successfully installed keras-unet-collection-0.1.13\n",
      "\u001b[33mWARNING: Running pip as the 'root' user can result in broken permissions and conflicting behaviour with the system package manager. It is recommended to use a virtual environment instead: https://pip.pypa.io/warnings/venv\u001b[0m\u001b[33m\n",
      "\u001b[0mNote: you may need to restart the kernel to use updated packages.\n"
     ]
    }
   ],
   "source": [
    "pip install keras-unet-collection\n"
   ]
  },
  {
   "cell_type": "code",
   "execution_count": 3,
   "id": "ba020661-3f39-4048-b1e0-f80319083363",
   "metadata": {
    "execution": {
     "iopub.execute_input": "2023-06-08T00:14:46.742120Z",
     "iopub.status.busy": "2023-06-08T00:14:46.741803Z",
     "iopub.status.idle": "2023-06-08T00:14:49.660925Z",
     "shell.execute_reply": "2023-06-08T00:14:49.660157Z",
     "shell.execute_reply.started": "2023-06-08T00:14:46.742096Z"
    }
   },
   "outputs": [
    {
     "name": "stdout",
     "output_type": "stream",
     "text": [
      "Collecting keras-tuner\n",
      "  Downloading keras_tuner-1.3.5-py3-none-any.whl (176 kB)\n",
      "\u001b[2K     \u001b[90m━━━━━━━━━━━━━━━━━━━━━━━━━━━━━━━━━━━━━━\u001b[0m \u001b[32m176.1/176.1 kB\u001b[0m \u001b[31m21.1 MB/s\u001b[0m eta \u001b[36m0:00:00\u001b[0m\n",
      "\u001b[?25hCollecting kt-legacy\n",
      "  Downloading kt_legacy-1.0.5-py3-none-any.whl (9.6 kB)\n",
      "Requirement already satisfied: requests in /usr/local/lib/python3.9/dist-packages (from keras-tuner) (2.28.2)\n",
      "Requirement already satisfied: packaging in /usr/local/lib/python3.9/dist-packages (from keras-tuner) (23.0)\n",
      "Requirement already satisfied: idna<4,>=2.5 in /usr/lib/python3/dist-packages (from requests->keras-tuner) (2.8)\n",
      "Requirement already satisfied: certifi>=2017.4.17 in /usr/lib/python3/dist-packages (from requests->keras-tuner) (2019.11.28)\n",
      "Requirement already satisfied: urllib3<1.27,>=1.21.1 in /usr/local/lib/python3.9/dist-packages (from requests->keras-tuner) (1.26.14)\n",
      "Requirement already satisfied: charset-normalizer<4,>=2 in /usr/local/lib/python3.9/dist-packages (from requests->keras-tuner) (2.1.1)\n",
      "Installing collected packages: kt-legacy, keras-tuner\n",
      "Successfully installed keras-tuner-1.3.5 kt-legacy-1.0.5\n",
      "\u001b[33mWARNING: Running pip as the 'root' user can result in broken permissions and conflicting behaviour with the system package manager. It is recommended to use a virtual environment instead: https://pip.pypa.io/warnings/venv\u001b[0m\u001b[33m\n",
      "\u001b[0mNote: you may need to restart the kernel to use updated packages.\n"
     ]
    }
   ],
   "source": [
    "pip install keras-tuner --upgrade"
   ]
  },
  {
   "cell_type": "code",
   "execution_count": 5,
   "id": "ae4807c7-be0b-4ef0-9788-6b0104dba686",
   "metadata": {
    "execution": {
     "iopub.execute_input": "2023-06-08T00:14:53.840919Z",
     "iopub.status.busy": "2023-06-08T00:14:53.840719Z",
     "iopub.status.idle": "2023-06-08T00:14:56.888882Z",
     "shell.execute_reply": "2023-06-08T00:14:56.888326Z",
     "shell.execute_reply.started": "2023-06-08T00:14:53.840899Z"
    }
   },
   "outputs": [],
   "source": [
    "from keras_unet_collection import models, losses\n",
    "from keras.layers import Input, Conv2D, MaxPooling2D, UpSampling2D, concatenate, Conv2DTranspose, BatchNormalization, Dropout, Lambda\n",
    "import os\n",
    "import glob\n",
    "import cv2\n",
    "import numpy as np\n",
    "import pandas as pd\n",
    "from matplotlib import pyplot as plt\n",
    "from tensorflow.keras.optimizers import Adam\n"
   ]
  },
  {
   "cell_type": "markdown",
   "id": "815a7f3d",
   "metadata": {},
   "source": [
    "# Model Training"
   ]
  },
  {
   "cell_type": "code",
   "execution_count": 6,
   "id": "8aaabc51-3d5d-4e58-aae2-7cf99c3245bf",
   "metadata": {
    "execution": {
     "iopub.execute_input": "2023-06-08T00:14:56.890640Z",
     "iopub.status.busy": "2023-06-08T00:14:56.889996Z",
     "iopub.status.idle": "2023-06-08T00:14:56.893639Z",
     "shell.execute_reply": "2023-06-08T00:14:56.893184Z",
     "shell.execute_reply.started": "2023-06-08T00:14:56.890616Z"
    }
   },
   "outputs": [],
   "source": [
    "#Size of the image used in training\n",
    "SIZE_X = 256  \n",
    "SIZE_Y = 256\n",
    "n_classes=3 #Number of classes for segmentation"
   ]
  },
  {
   "cell_type": "code",
   "execution_count": 7,
   "id": "d587cbc5-546a-4d7c-af08-6c262145cd3e",
   "metadata": {
    "execution": {
     "iopub.execute_input": "2023-06-08T00:14:56.895112Z",
     "iopub.status.busy": "2023-06-08T00:14:56.894629Z",
     "iopub.status.idle": "2023-06-08T00:14:56.899044Z",
     "shell.execute_reply": "2023-06-08T00:14:56.898531Z",
     "shell.execute_reply.started": "2023-06-08T00:14:56.895091Z"
    }
   },
   "outputs": [],
   "source": [
    "def standardize(img):\n",
    "    # Standardization of images using adjusted standard deviation\n",
    "\n",
    "    N = np.shape(img)[0] * np.shape(img)[1]\n",
    "    s = np.maximum(np.std(img), 1.0 / np.sqrt(N))\n",
    "    m = np.mean(img)\n",
    "    img = (img - m) / s\n",
    "    del m, s, N\n",
    "    #\n",
    "    if np.ndim(img) == 2:\n",
    "        img = np.dstack((img, img, img))\n",
    "\n",
    "    return img"
   ]
  },
  {
   "cell_type": "markdown",
   "id": "d63d681f",
   "metadata": {},
   "source": [
    "In this cell, change the `im_path` and `mask_path` to folders where your training set is"
   ]
  },
  {
   "cell_type": "code",
   "execution_count": 8,
   "id": "7048ac3b-49b1-4067-bf18-21734dbe2b41",
   "metadata": {
    "execution": {
     "iopub.execute_input": "2023-06-08T00:14:56.900760Z",
     "iopub.status.busy": "2023-06-08T00:14:56.900352Z",
     "iopub.status.idle": "2023-06-08T00:15:31.513200Z",
     "shell.execute_reply": "2023-06-08T00:15:31.512463Z",
     "shell.execute_reply.started": "2023-06-08T00:14:56.900741Z"
    },
    "scrolled": true
   },
   "outputs": [
    {
     "name": "stdout",
     "output_type": "stream",
     "text": [
      "(1939, 256, 256)\n",
      "127074304\n",
      "(1939, 256, 256, 3)\n",
      "381222912\n",
      "(1939, 256, 256, 3)\n",
      "(1939, 256, 256, 3)\n"
     ]
    }
   ],
   "source": [
    "#Capture mask/label info as a list\n",
    "\n",
    "\n",
    "train_masks = [] \n",
    "train_images = []\n",
    "\n",
    "mask_path = \"/notebooks/Augmented_New/Masks/\" # Path to Masks \n",
    "im_path = \"/notebooks/Augmented_New/NIR/\" # Path to Images\n",
    "                               \n",
    "maskDisO = os.listdir(mask_path)\n",
    "maskNames = sorted(maskDisO)\n",
    "\n",
    "imDisO = os.listdir(im_path)\n",
    "imNames = sorted(imDisO)\n",
    "\n",
    "\n",
    "for mask in maskNames: \n",
    "  for im in imNames:\n",
    "    #look through each image for each mask\n",
    "    if mask == im and mask.endswith(\".jpg\"):#checks for substring match (image name)\n",
    "      #read images\n",
    "      maskArr = cv2.imread(mask_path+mask, 0)\n",
    "      imArr = cv2.imread(im_path+im)\n",
    "      #resize images\n",
    "      maskArr = cv2.resize(maskArr,(SIZE_X,SIZE_Y), interpolation = cv2.INTER_CUBIC)\n",
    "      imArr = cv2.resize(imArr,(SIZE_X,SIZE_Y), interpolation = cv2.INTER_CUBIC)\n",
    "      #append to mask and image lists\n",
    "      train_masks.append(maskArr)\n",
    "      train_images.append(imArr)\n",
    "\n",
    "\n",
    "#Convert lists to array      \n",
    "\n",
    "train_masks = np.array(train_masks)\n",
    "\n",
    "\n",
    "print(str(train_masks.shape)+\"\\n\"+str(train_masks.size))\n",
    "train_images = np.array(train_images)\n",
    "print(str(train_images.shape)+\"\\n\"+str(train_images.size))\n",
    "\n",
    "normalRGBtrain = [] #mask images resized\n",
    "RGBorig = [] #images resized\n",
    "\n",
    "# Convert all Images from BRG to RGB\n",
    "for imgIdx in range(train_images.shape[0]):\n",
    "    \n",
    "  img = train_images[imgIdx]\n",
    "\n",
    "  img = cv2.cvtColor(img, cv2.COLOR_BGR2RGB)\n",
    "  img = standardize(img)\n",
    "\n",
    "  RGBorig.append(img)\n",
    "\n",
    "\n",
    "train_images = np.array(RGBorig)\n",
    "\n",
    "for imgIdx in range(train_masks.shape[0]):\n",
    "\n",
    "  img = train_masks[imgIdx]\n",
    "\n",
    "  #threshold to isolate ocean pixels\n",
    "  ret,ocean = cv2.threshold(img,0,255,cv2.THRESH_BINARY_INV)\n",
    "  #threshold to isolate reef pixels\n",
    "  ret,reef = cv2.threshold(img,1,255,cv2.THRESH_BINARY)\n",
    "  #threshold to isolate land and reef pixels\n",
    "  ret,reefLand = cv2.threshold(img,0,255,cv2.THRESH_BINARY)\n",
    "  #subtracting reef from reef and land gives us land\n",
    "  land = reefLand - reef\n",
    "  #new list for JUST this image\n",
    "  label = []\n",
    "  #add reef as its own channel\n",
    "  label.append(reef)\n",
    "  #add land as its own channel\n",
    "  label.append(land)\n",
    "  #add ocean as its own channel\n",
    "  label.append(ocean)\n",
    "  #convert list to array, makes this a new image!\n",
    "  label = np.array(label)\n",
    "  #now need to match input and switch axes around\n",
    "  label = np.swapaxes(label, 0,1)\n",
    "  label = np.swapaxes(label, 1,2)\n",
    "  #normalize values of label\n",
    "  label = label/255\n",
    "\n",
    "  normalRGBtrain.append(label)\n",
    "\n",
    "\n",
    "#make array with all of our new arrays\n",
    "train_masks = np.array(normalRGBtrain)\n",
    "\n",
    "#checks that maskset and imageset are same size \n",
    "print(train_masks.shape)\n",
    "print(train_images.shape)"
   ]
  },
  {
   "cell_type": "markdown",
   "id": "ab895d70",
   "metadata": {},
   "source": [
    "Apply augmentation here if needed. If dataset is already augmented, skip this cell."
   ]
  },
  {
   "cell_type": "code",
   "execution_count": 59,
   "id": "9a592388-35bd-4d4d-a9fe-2deda1d2c17b",
   "metadata": {
    "execution": {
     "iopub.execute_input": "2023-06-07T20:43:00.898366Z",
     "iopub.status.busy": "2023-06-07T20:43:00.898180Z",
     "iopub.status.idle": "2023-06-07T20:43:01.498430Z",
     "shell.execute_reply": "2023-06-07T20:43:01.497654Z",
     "shell.execute_reply.started": "2023-06-07T20:43:00.898350Z"
    }
   },
   "outputs": [],
   "source": [
    "# Augmentation of Dataset if needed. Does rotation 3 times. \n",
    "im = []\n",
    "msk = []\n",
    "\n",
    "for i in range(train_masks.shape[0]):\n",
    "    \n",
    "    rotate = cv2.rotate(train_images[i], cv2.ROTATE_90_CLOCKWISE)\n",
    "    maskTwoRotate = cv2.rotate(rotate, cv2.ROTATE_90_CLOCKWISE)\n",
    "    maskThreeRotate = cv2.rotate(maskTwoRotate, cv2.ROTATE_90_CLOCKWISE)\n",
    "    \n",
    "    rotate2 = cv2.rotate(train_masks[i], cv2.ROTATE_90_CLOCKWISE)\n",
    "    maskTwoRotate2 = cv2.rotate(rotate2, cv2.ROTATE_90_CLOCKWISE)\n",
    "    maskThreeRotate2 = cv2.rotate(maskTwoRotate2, cv2.ROTATE_90_CLOCKWISE)\n",
    "    \n",
    "    \n",
    "    im.append(train_images[i])\n",
    "    msk.append(train_masks[i])\n",
    "    im.append(rotate)\n",
    "    msk.append(rotate2)\n",
    "    im.append(maskTwoRotate)\n",
    "    msk.append(maskTwoRotate2)\n",
    "    im.append(maskThreeRotate)\n",
    "    msk.append(maskThreeRotate2)\n",
    "\n",
    "    \n",
    "train_images = np.array(im)\n",
    "train_masks = np.array(msk)"
   ]
  },
  {
   "cell_type": "markdown",
   "id": "ffeb817f",
   "metadata": {},
   "source": [
    "Split the data into training and validation sets"
   ]
  },
  {
   "cell_type": "code",
   "execution_count": 9,
   "id": "6f03598d-6479-4e0f-b815-51aa47623503",
   "metadata": {
    "execution": {
     "iopub.execute_input": "2023-06-08T00:15:31.514922Z",
     "iopub.status.busy": "2023-06-08T00:15:31.514724Z",
     "iopub.status.idle": "2023-06-08T00:15:34.337434Z",
     "shell.execute_reply": "2023-06-08T00:15:34.336689Z",
     "shell.execute_reply.started": "2023-06-08T00:15:31.514905Z"
    }
   },
   "outputs": [],
   "source": [
    "#Create a subset of data for quick testing\n",
    "from sklearn.model_selection import train_test_split\n",
    "\n",
    "#here need to split data and order in a way that makes index in array correspond to particular image-mask pair\n",
    "X_train, X_test, y_train, y_test = train_test_split(train_images, train_masks, test_size = 0.2, random_state = 0)\n",
    "\n",
    "from keras.utils import to_categorical"
   ]
  },
  {
   "cell_type": "markdown",
   "id": "0afdaae8",
   "metadata": {},
   "source": [
    "# Model Selection"
   ]
  },
  {
   "cell_type": "markdown",
   "id": "4ad0a242",
   "metadata": {},
   "source": [
    "Pick one of the below models for training. Change the parameters as see fit. Documentation here: https://github.com/yingkaisha/keras-unet-collection"
   ]
  },
  {
   "cell_type": "code",
   "execution_count": 11,
   "id": "ba23fa13-f58f-4678-af56-6143eb8f283f",
   "metadata": {
    "execution": {
     "iopub.execute_input": "2023-05-31T16:45:40.779253Z",
     "iopub.status.busy": "2023-05-31T16:45:40.778631Z",
     "iopub.status.idle": "2023-05-31T16:45:41.525558Z",
     "shell.execute_reply": "2023-05-31T16:45:41.525022Z",
     "shell.execute_reply.started": "2023-05-31T16:45:40.779231Z"
    }
   },
   "outputs": [],
   "source": [
    "model = models.transunet_2d((256, 256, 3), filter_num=[64, 128, 256, 512], n_labels=3, stack_num_down=2, stack_num_up=2,\n",
    "                                embed_dim=768, num_mlp=3072, num_heads=3, num_transformer=3,\n",
    "                                activation='ReLU', mlp_activation='GELU', output_activation='Softmax', \n",
    "                                batch_norm=True, pool=True, unpool='bilinear', name='transunet')"
   ]
  },
  {
   "cell_type": "code",
   "execution_count": 181,
   "id": "0d750259-5400-41c5-b288-d378952dffbc",
   "metadata": {
    "execution": {
     "iopub.execute_input": "2023-06-07T20:04:57.258715Z",
     "iopub.status.busy": "2023-06-07T20:04:57.258078Z",
     "iopub.status.idle": "2023-06-07T20:04:57.529163Z",
     "shell.execute_reply": "2023-06-07T20:04:57.528644Z",
     "shell.execute_reply.started": "2023-06-07T20:04:57.258693Z"
    }
   },
   "outputs": [
    {
     "name": "stdout",
     "output_type": "stream",
     "text": [
      "----------\n",
      "deep_supervision = True\n",
      "names of output tensors are listed as follows (\"sup0\" is the shallowest supervision layer;\n",
      "\"final\" is the final output layer):\n",
      "\n",
      "\txnet_output_sup0_activation\n",
      "\txnet_output_sup1_activation\n",
      "\txnet_output_sup2_activation\n",
      "\txnet_output_final_activation\n"
     ]
    }
   ],
   "source": [
    "model = models.unet_plus_2d((256, 256, 3), [64, 128, 256, 512], n_labels=3,\n",
    "                            stack_num_down=2, stack_num_up=2,\n",
    "                            activation='LeakyReLU', output_activation='Softmax', \n",
    "                            batch_norm=False, pool='max', unpool=False, deep_supervision=True, name='xnet')"
   ]
  },
  {
   "cell_type": "code",
   "execution_count": 26,
   "id": "4565142c-0f03-4311-b3ad-46acd1c9208e",
   "metadata": {
    "execution": {
     "iopub.execute_input": "2023-06-08T00:32:02.773694Z",
     "iopub.status.busy": "2023-06-08T00:32:02.773125Z",
     "iopub.status.idle": "2023-06-08T00:32:04.236506Z",
     "shell.execute_reply": "2023-06-08T00:32:04.235854Z",
     "shell.execute_reply.started": "2023-06-08T00:32:02.773672Z"
    }
   },
   "outputs": [],
   "source": [
    "model = models.swin_unet_2d((256, 256, 3), filter_num_begin=64,\n",
    "                               n_labels=3, depth=4, stack_num_down=2, stack_num_up=2,\n",
    "                               patch_size=(4, 4), num_heads=[4, 8, 8, 8],\n",
    "                               window_size=[4, 2, 2, 2], num_mlp=512, \n",
    "                               output_activation='Softmax', shift_window=True,\n",
    "                               name='swin_unet')"
   ]
  },
  {
   "cell_type": "code",
   "execution_count": 165,
   "id": "748db72b-a601-489d-a89d-a552fc7793af",
   "metadata": {
    "execution": {
     "iopub.execute_input": "2023-06-07T19:57:27.151082Z",
     "iopub.status.busy": "2023-06-07T19:57:27.150799Z",
     "iopub.status.idle": "2023-06-07T19:57:28.054890Z",
     "shell.execute_reply": "2023-06-07T19:57:28.054264Z",
     "shell.execute_reply.started": "2023-06-07T19:57:27.151061Z"
    }
   },
   "outputs": [
    {
     "name": "stdout",
     "output_type": "stream",
     "text": [
      "Received dilation rates: [1, 3, 15, 31]\n",
      "Received dilation rates are not defined on a per downsampling level basis.\n",
      "Automated determinations are applied with the following details:\n",
      "\tdepth-0, dilation_rate = [1, 3, 15, 31]\n",
      "\tdepth-1, dilation_rate = [1, 3, 15, 31]\n",
      "\tdepth-2, dilation_rate = [1, 3, 15]\n",
      "\tdepth-3, dilation_rate = [1]\n"
     ]
    }
   ],
   "source": [
    "model = models.resunet_a_2d((256, 256, 3), [32, 64, 128, 256], \n",
    "                            dilation_num=[1, 3, 15, 31], \n",
    "                            n_labels=3, aspp_num_down=256, aspp_num_up=128, \n",
    "                            activation='ReLU', output_activation='Sigmoid', \n",
    "                            batch_norm=True, pool=False, unpool='nearest', name='resunet')"
   ]
  },
  {
   "cell_type": "code",
   "execution_count": 38,
   "id": "60802ce1-6096-4a59-8e2d-54a8105a9838",
   "metadata": {
    "execution": {
     "iopub.execute_input": "2023-05-31T17:46:05.212932Z",
     "iopub.status.busy": "2023-05-31T17:46:05.212155Z",
     "iopub.status.idle": "2023-05-31T17:46:05.526891Z",
     "shell.execute_reply": "2023-05-31T17:46:05.526211Z",
     "shell.execute_reply.started": "2023-05-31T17:46:05.212909Z"
    }
   },
   "outputs": [],
   "source": [
    "model = models.att_unet_2d((256, 256, 3), [64, 128, 256, 512], n_labels=3,\n",
    "                           stack_num_down=2, stack_num_up=2,\n",
    "                           activation='ReLU', atten_activation='ReLU', attention='add', output_activation=None, \n",
    "                           batch_norm=True, pool=False, unpool='bilinear', name='attunet')"
   ]
  },
  {
   "cell_type": "markdown",
   "id": "9c602a8b",
   "metadata": {},
   "source": [
    "Compile the model before continuing"
   ]
  },
  {
   "cell_type": "code",
   "execution_count": 27,
   "id": "72c7b72e-2900-46e1-b09c-c4973cb12dff",
   "metadata": {
    "execution": {
     "iopub.execute_input": "2023-06-08T00:32:11.690040Z",
     "iopub.status.busy": "2023-06-08T00:32:11.689407Z",
     "iopub.status.idle": "2023-06-08T00:32:11.752852Z",
     "shell.execute_reply": "2023-06-08T00:32:11.752243Z",
     "shell.execute_reply.started": "2023-06-08T00:32:11.690014Z"
    },
    "scrolled": true
   },
   "outputs": [
    {
     "name": "stdout",
     "output_type": "stream",
     "text": [
      "Model: \"swin_unet_model\"\n",
      "__________________________________________________________________________________________________\n",
      " Layer (type)                   Output Shape         Param #     Connected to                     \n",
      "==================================================================================================\n",
      " input_3 (InputLayer)           [(None, 256, 256, 3  0           []                               \n",
      "                                )]                                                                \n",
      "                                                                                                  \n",
      " patch_extract_2 (patch_extract  (None, 4096, 48)    0           ['input_3[0][0]']                \n",
      " )                                                                                                \n",
      "                                                                                                  \n",
      " patch_embedding_2 (patch_embed  (None, 4096, 64)    265280      ['patch_extract_2[0][0]']        \n",
      " ding)                                                                                            \n",
      "                                                                                                  \n",
      " swin_transformer_block_28 (Swi  (None, 4096, 64)    83460       ['patch_embedding_2[0][0]']      \n",
      " nTransformerBlock)                                                                               \n",
      "                                                                                                  \n",
      " swin_transformer_block_29 (Swi  (None, 4096, 64)    148996      ['swin_transformer_block_28[0][0]\n",
      " nTransformerBlock)                                              ']                               \n",
      "                                                                                                  \n",
      " patch_merging_6 (patch_merging  (None, 1024, 128)   32768       ['swin_transformer_block_29[0][0]\n",
      " )                                                               ']                               \n",
      "                                                                                                  \n",
      " swin_transformer_block_30 (Swi  (None, 1024, 128)   198360      ['patch_merging_6[0][0]']        \n",
      " nTransformerBlock)                                                                               \n",
      "                                                                                                  \n",
      " swin_transformer_block_31 (Swi  (None, 1024, 128)   202456      ['swin_transformer_block_30[0][0]\n",
      " nTransformerBlock)                                              ']                               \n",
      "                                                                                                  \n",
      " patch_merging_7 (patch_merging  (None, 256, 256)    131072      ['swin_transformer_block_31[0][0]\n",
      " )                                                               ']                               \n",
      "                                                                                                  \n",
      " swin_transformer_block_32 (Swi  (None, 256, 256)    527192      ['patch_merging_7[0][0]']        \n",
      " nTransformerBlock)                                                                               \n",
      "                                                                                                  \n",
      " swin_transformer_block_33 (Swi  (None, 256, 256)    528216      ['swin_transformer_block_32[0][0]\n",
      " nTransformerBlock)                                              ']                               \n",
      "                                                                                                  \n",
      " patch_merging_8 (patch_merging  (None, 64, 512)     524288      ['swin_transformer_block_33[0][0]\n",
      " )                                                               ']                               \n",
      "                                                                                                  \n",
      " swin_transformer_block_34 (Swi  (None, 64, 512)     1578072     ['patch_merging_8[0][0]']        \n",
      " nTransformerBlock)                                                                               \n",
      "                                                                                                  \n",
      " swin_transformer_block_35 (Swi  (None, 64, 512)     1578328     ['swin_transformer_block_34[0][0]\n",
      " nTransformerBlock)                                              ']                               \n",
      "                                                                                                  \n",
      " patch_expanding_8 (patch_expan  (None, 256, 256)    524288      ['swin_transformer_block_35[0][0]\n",
      " ding)                                                           ']                               \n",
      "                                                                                                  \n",
      " swin_unet_concat_0 (Concatenat  (None, 256, 512)    0           ['patch_expanding_8[0][0]',      \n",
      " e)                                                               'swin_transformer_block_33[0][0]\n",
      "                                                                 ']                               \n",
      "                                                                                                  \n",
      " swin_unet_concat_linear_proj_0  (None, 256, 256)    131072      ['swin_unet_concat_0[0][0]']     \n",
      "  (Dense)                                                                                         \n",
      "                                                                                                  \n",
      " swin_transformer_block_36 (Swi  (None, 256, 256)    527192      ['swin_unet_concat_linear_proj_0[\n",
      " nTransformerBlock)                                              0][0]']                          \n",
      "                                                                                                  \n",
      " swin_transformer_block_37 (Swi  (None, 256, 256)    528216      ['swin_transformer_block_36[0][0]\n",
      " nTransformerBlock)                                              ']                               \n",
      "                                                                                                  \n",
      " patch_expanding_9 (patch_expan  (None, 1024, 128)   131072      ['swin_transformer_block_37[0][0]\n",
      " ding)                                                           ']                               \n",
      "                                                                                                  \n",
      " swin_unet_concat_1 (Concatenat  (None, 1024, 256)   0           ['patch_expanding_9[0][0]',      \n",
      " e)                                                               'swin_transformer_block_31[0][0]\n",
      "                                                                 ']                               \n",
      "                                                                                                  \n",
      " swin_unet_concat_linear_proj_1  (None, 1024, 128)   32768       ['swin_unet_concat_1[0][0]']     \n",
      "  (Dense)                                                                                         \n",
      "                                                                                                  \n",
      " swin_transformer_block_38 (Swi  (None, 1024, 128)   198360      ['swin_unet_concat_linear_proj_1[\n",
      " nTransformerBlock)                                              0][0]']                          \n",
      "                                                                                                  \n",
      " swin_transformer_block_39 (Swi  (None, 1024, 128)   202456      ['swin_transformer_block_38[0][0]\n",
      " nTransformerBlock)                                              ']                               \n",
      "                                                                                                  \n",
      " patch_expanding_10 (patch_expa  (None, 4096, 64)    32768       ['swin_transformer_block_39[0][0]\n",
      " nding)                                                          ']                               \n",
      "                                                                                                  \n",
      " swin_unet_concat_2 (Concatenat  (None, 4096, 128)   0           ['patch_expanding_10[0][0]',     \n",
      " e)                                                               'swin_transformer_block_29[0][0]\n",
      "                                                                 ']                               \n",
      "                                                                                                  \n",
      " swin_unet_concat_linear_proj_2  (None, 4096, 64)    8192        ['swin_unet_concat_2[0][0]']     \n",
      "  (Dense)                                                                                         \n",
      "                                                                                                  \n",
      " swin_transformer_block_40 (Swi  (None, 4096, 64)    83096       ['swin_unet_concat_linear_proj_2[\n",
      " nTransformerBlock)                                              0][0]']                          \n",
      "                                                                                                  \n",
      " swin_transformer_block_41 (Swi  (None, 4096, 64)    99480       ['swin_transformer_block_40[0][0]\n",
      " nTransformerBlock)                                              ']                               \n",
      "                                                                                                  \n",
      " patch_expanding_11 (patch_expa  (None, 256, 256, 16  16384      ['swin_transformer_block_41[0][0]\n",
      " nding)                         )                                ']                               \n",
      "                                                                                                  \n",
      " swin_unet_output (Conv2D)      (None, 256, 256, 3)  51          ['patch_expanding_11[0][0]']     \n",
      "                                                                                                  \n",
      " swin_unet_output_activation (S  (None, 256, 256, 3)  0          ['swin_unet_output[0][0]']       \n",
      " oftmax)                                                                                          \n",
      "                                                                                                  \n",
      "==================================================================================================\n",
      "Total params: 8,313,883\n",
      "Trainable params: 8,220,763\n",
      "Non-trainable params: 93,120\n",
      "__________________________________________________________________________________________________\n",
      "None\n"
     ]
    },
    {
     "name": "stderr",
     "output_type": "stream",
     "text": [
      "/usr/local/lib/python3.9/dist-packages/keras/optimizers/optimizer_v2/adam.py:110: UserWarning: The `lr` argument is deprecated, use `learning_rate` instead.\n",
      "  super(Adam, self).__init__(name, **kwargs)\n"
     ]
    }
   ],
   "source": [
    "# Compile model before training and get a summary over structure\n",
    "model.compile(loss='binary_crossentropy', optimizer=Adam(lr = 1e-3), \n",
    "              metrics=['accuracy', losses.iou_seg])\n",
    "print(model.summary())"
   ]
  },
  {
   "cell_type": "markdown",
   "id": "6fbc78b7",
   "metadata": {},
   "source": [
    "Run the cell below for training. Change parameters as see fit"
   ]
  },
  {
   "cell_type": "code",
   "execution_count": 28,
   "id": "53c071dd-b8f9-44fb-8728-8664341e3a3b",
   "metadata": {
    "execution": {
     "iopub.execute_input": "2023-06-08T00:32:27.162517Z",
     "iopub.status.busy": "2023-06-08T00:32:27.161726Z",
     "iopub.status.idle": "2023-06-08T00:37:24.441669Z",
     "shell.execute_reply": "2023-06-08T00:37:24.440964Z",
     "shell.execute_reply.started": "2023-06-08T00:32:27.162492Z"
    },
    "scrolled": true
   },
   "outputs": [
    {
     "name": "stdout",
     "output_type": "stream",
     "text": [
      "Epoch 1/10\n",
      "388/388 [==============================] - 45s 79ms/step - loss: 0.0904 - accuracy: 0.9497 - iou_seg: 0.1271 - val_loss: 0.0735 - val_accuracy: 0.9572 - val_iou_seg: 0.1188\n",
      "Epoch 2/10\n",
      "388/388 [==============================] - 29s 74ms/step - loss: 0.0655 - accuracy: 0.9627 - iou_seg: 0.1032 - val_loss: 0.0633 - val_accuracy: 0.9637 - val_iou_seg: 0.1041\n",
      "Epoch 3/10\n",
      "388/388 [==============================] - 27s 70ms/step - loss: 0.0629 - accuracy: 0.9643 - iou_seg: 0.0996 - val_loss: 0.0674 - val_accuracy: 0.9604 - val_iou_seg: 0.1056\n",
      "Epoch 4/10\n",
      "388/388 [==============================] - 28s 71ms/step - loss: 0.0594 - accuracy: 0.9663 - iou_seg: 0.0946 - val_loss: 0.0594 - val_accuracy: 0.9652 - val_iou_seg: 0.0960\n",
      "Epoch 5/10\n",
      "388/388 [==============================] - 28s 71ms/step - loss: 0.0586 - accuracy: 0.9669 - iou_seg: 0.0932 - val_loss: 0.0575 - val_accuracy: 0.9668 - val_iou_seg: 0.0954\n",
      "Epoch 6/10\n",
      "388/388 [==============================] - 27s 70ms/step - loss: 0.0595 - accuracy: 0.9667 - iou_seg: 0.0940 - val_loss: 0.0555 - val_accuracy: 0.9684 - val_iou_seg: 0.0838\n",
      "Epoch 7/10\n",
      "388/388 [==============================] - 27s 71ms/step - loss: 0.0545 - accuracy: 0.9692 - iou_seg: 0.0872 - val_loss: 0.0520 - val_accuracy: 0.9713 - val_iou_seg: 0.0758\n",
      "Epoch 8/10\n",
      "388/388 [==============================] - 27s 70ms/step - loss: 0.0514 - accuracy: 0.9710 - iou_seg: 0.0829 - val_loss: 0.0518 - val_accuracy: 0.9715 - val_iou_seg: 0.0756\n",
      "Epoch 9/10\n",
      "388/388 [==============================] - 27s 70ms/step - loss: 0.0494 - accuracy: 0.9721 - iou_seg: 0.0800 - val_loss: 0.0521 - val_accuracy: 0.9713 - val_iou_seg: 0.0754\n",
      "Epoch 10/10\n",
      "388/388 [==============================] - 28s 72ms/step - loss: 0.0490 - accuracy: 0.9723 - iou_seg: 0.0793 - val_loss: 0.0559 - val_accuracy: 0.9696 - val_iou_seg: 0.0787\n"
     ]
    }
   ],
   "source": [
    "# Training\n",
    "Unet_history = model.fit(X_train, y_train, \n",
    "                    verbose=1,\n",
    "                    batch_size = 4,\n",
    "                    validation_data=(X_test, y_test), \n",
    "                    shuffle=False,\n",
    "                    epochs=10)\n",
    "\n"
   ]
  },
  {
   "cell_type": "code",
   "execution_count": 65,
   "id": "c5295dae-0097-4ab9-9eeb-bd3108198389",
   "metadata": {
    "execution": {
     "iopub.execute_input": "2023-06-07T20:44:56.900355Z",
     "iopub.status.busy": "2023-06-07T20:44:56.900141Z",
     "iopub.status.idle": "2023-06-07T20:44:57.246375Z",
     "shell.execute_reply": "2023-06-07T20:44:57.245778Z",
     "shell.execute_reply.started": "2023-06-07T20:44:56.900337Z"
    }
   },
   "outputs": [],
   "source": [
    "# Save the model in hdf5 format somewhere\n",
    "model.save('/notebooks/Todos_Everything/Swir2/Swir2.hdf5')"
   ]
  },
  {
   "cell_type": "markdown",
   "id": "75ffb65d",
   "metadata": {},
   "source": [
    "# Model Prediction"
   ]
  },
  {
   "cell_type": "code",
   "execution_count": null,
   "id": "6cbb5b61",
   "metadata": {},
   "outputs": [],
   "source": [
    "# Load model if needed; otherwise, if you ran everything above, skip this step. \n",
    "from tensorflow.keras.models import load_model\n",
    "from keras_unet_collection.transformer_layers import patch_extract, patch_embedding, SwinTransformerBlock, patch_merging, patch_expanding\n",
    "from keras_unet_collection.activations import GELU\n",
    "\n",
    "model = load_model('/notebooks/All_Bands.hdf5', custom_objects = {\"patch_extract\":patch_extract, \"patch_embedding\": patch_embedding, \"SwinTransformerBlock\" : SwinTransformerBlock, \"patch_merging\": patch_merging, \"patch_expanding\": patch_expanding, \"dice_coef\" : losses.dice_coef, \"GELU\" : GELU, \"dice\" : losses.dice})\n"
   ]
  },
  {
   "cell_type": "code",
   "execution_count": 10,
   "id": "bdbf6747-56dc-4539-9f1b-084c4b22cfe1",
   "metadata": {
    "execution": {
     "iopub.execute_input": "2023-06-08T00:37:28.442942Z",
     "iopub.status.busy": "2023-06-08T00:37:28.442677Z",
     "iopub.status.idle": "2023-06-08T00:37:28.508273Z",
     "shell.execute_reply": "2023-06-08T00:37:28.506888Z",
     "shell.execute_reply.started": "2023-06-08T00:37:28.442924Z"
    }
   },
   "outputs": [
    {
     "name": "stdout",
     "output_type": "stream",
     "text": [
      "(28, 256, 256, 3)\n"
     ]
    }
   ],
   "source": [
    "# Initialize lists to store training images and their filenames\n",
    "train_predict = []\n",
    "train_predict_list = []\n",
    "\n",
    "# Define the path to the image folder and the image size\n",
    "folder = \"/Users/ray/Desktop/Test Set/NIR/\"\n",
    "SIZE_X = 256 # width of the image\n",
    "SIZE_Y = 256 # height of the image\n",
    "\n",
    "# Loop over all files in the folder\n",
    "for directory_path in sorted(glob.glob(folder)):\n",
    "    for img_path in sorted(glob.glob(os.path.join(directory_path, \"*.jpg\"))):\n",
    "        \n",
    "        # Read each image file\n",
    "        img = cv2.imread(img_path)\n",
    "        # Convert the image from BGR to RGB\n",
    "        img = cv2.cvtColor(img, cv2.COLOR_BGR2RGB)\n",
    "        # Resize the image to the specified size\n",
    "        img = cv2.resize(img,(SIZE_X,SIZE_Y), interpolation = cv2.INTER_CUBIC)\n",
    "\n",
    "        # Standardize images for predictions\n",
    "        img = standardize(img)\n",
    "        # Append the standardized image to the train_predict list\n",
    "        train_predict.append(img)\n",
    "\n",
    "        # Extract the filename from the full path and append it to train_predict_list\n",
    "        filename = os.path.basename(img_path)[:-4]\n",
    "        train_predict_list.append(filename)\n",
    "\n",
    "# Convert train_predict to numpy array\n",
    "train_predict = np.array(train_predict)\n",
    "\n",
    "print(train_predict.shape)  # Print out the shape of train_predict\n"
   ]
  },
  {
   "cell_type": "code",
   "execution_count": null,
   "id": "b88b7f1d",
   "metadata": {},
   "outputs": [],
   "source": [
    "ground_truth = []\n",
    "\n",
    "# Define the path to the image folder and the image size\n",
    "ground_folder = \"/Users/ray/Desktop/Actual_Test_Set/\"\n",
    "\n",
    "\n",
    "# Loop over all files in the folder\n",
    "for directory_path in sorted(glob.glob(folder)):\n",
    "    for img_path in sorted(glob.glob(os.path.join(directory_path, \"*.jpg\"))):\n",
    "        \n",
    "        # Read each image file\n",
    "        img = cv2.imread(img_path,0)\n",
    "       \n",
    "        # Append the standardized image to the train_predict list\n",
    "        ground_truth.append(img)\n",
    "\n",
    "\n",
    "# Convert train_predict to numpy array\n",
    "ground_truth = np.array(ground)\n",
    "\n",
    "print(ground_truth.shape)  # Print out the shape of train_predict\n"
   ]
  },
  {
   "cell_type": "markdown",
   "id": "8c73e710",
   "metadata": {},
   "source": [
    "# Predicting"
   ]
  },
  {
   "cell_type": "code",
   "execution_count": 30,
   "id": "6115c8b7-99df-4b6d-a51f-8c29686ffc5e",
   "metadata": {
    "execution": {
     "iopub.execute_input": "2023-06-08T00:37:30.539359Z",
     "iopub.status.busy": "2023-06-08T00:37:30.538932Z",
     "iopub.status.idle": "2023-06-08T00:37:37.751162Z",
     "shell.execute_reply": "2023-06-08T00:37:37.750642Z",
     "shell.execute_reply.started": "2023-06-08T00:37:30.539337Z"
    },
    "scrolled": true
   },
   "outputs": [
    {
     "name": "stdout",
     "output_type": "stream",
     "text": [
      "1/1 [==============================] - 2s 2s/step\n",
      "1/1 [==============================] - 0s 117ms/step\n",
      "1/1 [==============================] - 0s 114ms/step\n",
      "1/1 [==============================] - 0s 108ms/step\n",
      "1/1 [==============================] - 0s 114ms/step\n",
      "1/1 [==============================] - 0s 110ms/step\n",
      "1/1 [==============================] - 0s 123ms/step\n",
      "1/1 [==============================] - 0s 124ms/step\n",
      "1/1 [==============================] - 0s 111ms/step\n",
      "1/1 [==============================] - 0s 119ms/step\n",
      "1/1 [==============================] - 0s 107ms/step\n",
      "1/1 [==============================] - 0s 119ms/step\n",
      "1/1 [==============================] - 0s 113ms/step\n",
      "1/1 [==============================] - 0s 115ms/step\n",
      "1/1 [==============================] - 0s 117ms/step\n",
      "1/1 [==============================] - 0s 114ms/step\n",
      "1/1 [==============================] - 0s 113ms/step\n",
      "1/1 [==============================] - 0s 114ms/step\n",
      "1/1 [==============================] - 0s 109ms/step\n",
      "1/1 [==============================] - 0s 108ms/step\n",
      "1/1 [==============================] - 0s 117ms/step\n",
      "1/1 [==============================] - 0s 116ms/step\n",
      "1/1 [==============================] - 0s 107ms/step\n",
      "1/1 [==============================] - 0s 108ms/step\n",
      "1/1 [==============================] - 0s 106ms/step\n",
      "1/1 [==============================] - 0s 107ms/step\n",
      "1/1 [==============================] - 0s 107ms/step\n",
      "1/1 [==============================] - 0s 106ms/step\n"
     ]
    }
   ],
   "source": [
    "predicted = []\n",
    "for i in range(len(train_predict_list)):\n",
    "  prediction = (model.predict(train_predict)) # Predict on image\n",
    "  predicted_img=np.argmax(prediction, axis=3)[i,:,:] \n",
    "  predicted.append(predicted_img)\n",
    " "
   ]
  },
  {
   "cell_type": "code",
   "execution_count": null,
   "id": "8acf65bf",
   "metadata": {},
   "outputs": [],
   "source": [
    "# Save Predictions to a folder\n",
    "save_folder = \"/Users/ray/Desktop/folder/\"\n",
    "for i in range(len(predicted)):\n",
    "    plt.imsave(save_folder + train_predict_list[i]+ \".png\", predicted[i])"
   ]
  },
  {
   "cell_type": "markdown",
   "id": "456ad076",
   "metadata": {},
   "source": [
    "# Visualize Predictions"
   ]
  },
  {
   "cell_type": "code",
   "execution_count": null,
   "id": "55708c76",
   "metadata": {},
   "outputs": [],
   "source": [
    "for i in range(len(train_predict)):\n",
    "    # Create a new figure\n",
    "    plt.figure(figsize=(15,5))\n",
    "    \n",
    "    # Show the original image\n",
    "    plt.subplot(1, 3, 1)\n",
    "    plt.imshow(train_predict[i])\n",
    "    plt.title(f'Image {i+1}')  # replace with actual image name if available\n",
    "    \n",
    "     # Show the ground truth\n",
    "    plt.subplot(1, 3, 3)\n",
    "    plt.imshow(ground_truth[i])\n",
    "    plt.title('Ground Truth')\n",
    "    \n",
    "    # Show the prediction\n",
    "    plt.subplot(1, 3, 2)\n",
    "    plt.imshow(predicted[i])\n",
    "    plt.title('Prediction')\n",
    "\n",
    "   \n",
    "    # Show the figure\n",
    "    plt.show()"
   ]
  },
  {
   "cell_type": "markdown",
   "id": "49cdfe2b",
   "metadata": {},
   "source": [
    "# Compare Results with Ground Truth"
   ]
  },
  {
   "cell_type": "markdown",
   "id": "f57c29ee",
   "metadata": {},
   "source": [
    "Below, you can visualize and compare your prediction results to the ground truth. `cd` the library to somewhere with access to `Analysis.py`, then run"
   ]
  },
  {
   "cell_type": "code",
   "execution_count": null,
   "id": "488bf65a",
   "metadata": {},
   "outputs": [],
   "source": [
    "%cd /Users/ray/Desktop/"
   ]
  },
  {
   "cell_type": "code",
   "execution_count": 33,
   "id": "eee964de-b1ea-4388-b9eb-f37f71ba2681",
   "metadata": {
    "execution": {
     "iopub.execute_input": "2023-06-08T00:37:47.701412Z",
     "iopub.status.busy": "2023-06-08T00:37:47.700738Z",
     "iopub.status.idle": "2023-06-08T00:37:48.145516Z",
     "shell.execute_reply": "2023-06-08T00:37:48.145035Z",
     "shell.execute_reply.started": "2023-06-08T00:37:47.701387Z"
    }
   },
   "outputs": [
    {
     "name": "stdout",
     "output_type": "stream",
     "text": [
      "Accuracy: 0.9651767185756138\n",
      "F1 Score: 0.887999530393404\n",
      "Mean IoU for each class: [0.96825179 0.68038317 0.79968608]\n",
      "Overall Mean IoU: 0.8161070119153071\n"
     ]
    },
    {
     "data": {
      "image/png": "[encoded data removed]",
      "text/plain": [
       "<Figure size 800x600 with 1 Axes>"
      ]
     },
     "metadata": {},
     "output_type": "display_data"
    }
   ],
   "source": [
    "import Analysis\n",
    "# Usage example\n",
    "num_classes = 3\n",
    "Ground_mask = predicted\n",
    "true_mask = ground\n",
    "\n",
    "analysis = Analysis.ImageAnalysis(num_classes, Ground_mask , true_mask)\n",
    "analysis.compute_ious()\n",
    "mean_ious, overall_mean_iou = analysis.get_mean_ious()\n",
    "f1 = analysis.compute_f1()\n",
    "accuracy = analysis.compute_accuracy()\n",
    "print(f'Accuracy: {accuracy}')\n",
    "print(f'F1 Score: {f1}')\n",
    "print(f'Mean IoU for each class: {mean_ious}')\n",
    "print(f'Overall Mean IoU: {overall_mean_iou}')\n",
    "\n",
    "analysis.plot_confusion_matrix()"
   ]
  }
 ],
 "metadata": {
  "kernelspec": {
   "display_name": "Python 3 (ipykernel)",
   "language": "python",
   "name": "python3"
  },
  "language_info": {
   "codemirror_mode": {
    "name": "ipython",
    "version": 3
   },
   "file_extension": ".py",
   "mimetype": "text/x-python",
   "name": "python",
   "nbconvert_exporter": "python",
   "pygments_lexer": "ipython3",
   "version": "3.10.8"
  }
 },
 "nbformat": 4,
 "nbformat_minor": 5
}
